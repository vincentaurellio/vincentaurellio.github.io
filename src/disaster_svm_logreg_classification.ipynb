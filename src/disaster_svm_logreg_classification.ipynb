{
 "cells": [
  {
   "cell_type": "code",
   "execution_count": 1,
   "id": "e983e2f6",
   "metadata": {},
   "outputs": [],
   "source": [
    "import numpy as np\n",
    "import pandas as pd\n",
    "import matplotlib.pyplot as plt\n",
    "import pickle"
   ]
  },
  {
   "cell_type": "code",
   "execution_count": 2,
   "id": "9f89ca42",
   "metadata": {},
   "outputs": [],
   "source": [
    "disaster_df = pd.read_csv(\"../data/data.csv\") #load the dataset"
   ]
  },
  {
   "cell_type": "code",
   "execution_count": 3,
   "id": "81f82145",
   "metadata": {
    "scrolled": true
   },
   "outputs": [
    {
     "data": {
      "text/html": [
       "<div>\n",
       "<style scoped>\n",
       "    .dataframe tbody tr th:only-of-type {\n",
       "        vertical-align: middle;\n",
       "    }\n",
       "\n",
       "    .dataframe tbody tr th {\n",
       "        vertical-align: top;\n",
       "    }\n",
       "\n",
       "    .dataframe thead th {\n",
       "        text-align: right;\n",
       "    }\n",
       "</style>\n",
       "<table border=\"1\" class=\"dataframe\">\n",
       "  <thead>\n",
       "    <tr style=\"text-align: right;\">\n",
       "      <th></th>\n",
       "      <th>Unnamed: 0</th>\n",
       "      <th>Id</th>\n",
       "      <th>class</th>\n",
       "      <th>num_sibling/spouse</th>\n",
       "      <th>num_parent/child</th>\n",
       "      <th>ticket</th>\n",
       "      <th>price</th>\n",
       "      <th>Seat</th>\n",
       "      <th>departure_from</th>\n",
       "      <th>gender</th>\n",
       "      <th>alive</th>\n",
       "      <th>age</th>\n",
       "    </tr>\n",
       "  </thead>\n",
       "  <tbody>\n",
       "    <tr>\n",
       "      <th>0</th>\n",
       "      <td>0</td>\n",
       "      <td>1</td>\n",
       "      <td>3</td>\n",
       "      <td>1</td>\n",
       "      <td>0</td>\n",
       "      <td>CUGSP1ULC1</td>\n",
       "      <td>7.2500</td>\n",
       "      <td>NaN</td>\n",
       "      <td>S</td>\n",
       "      <td>male</td>\n",
       "      <td>0</td>\n",
       "      <td>22.0</td>\n",
       "    </tr>\n",
       "    <tr>\n",
       "      <th>1</th>\n",
       "      <td>1</td>\n",
       "      <td>2</td>\n",
       "      <td>1</td>\n",
       "      <td>1</td>\n",
       "      <td>0</td>\n",
       "      <td>RWKPI7Y5RI</td>\n",
       "      <td>71.2833</td>\n",
       "      <td>C85</td>\n",
       "      <td>C</td>\n",
       "      <td>female</td>\n",
       "      <td>1</td>\n",
       "      <td>38.0</td>\n",
       "    </tr>\n",
       "    <tr>\n",
       "      <th>2</th>\n",
       "      <td>2</td>\n",
       "      <td>3</td>\n",
       "      <td>3</td>\n",
       "      <td>0</td>\n",
       "      <td>0</td>\n",
       "      <td>DTHA121ED6</td>\n",
       "      <td>7.9250</td>\n",
       "      <td>NaN</td>\n",
       "      <td>S</td>\n",
       "      <td>female</td>\n",
       "      <td>1</td>\n",
       "      <td>26.0</td>\n",
       "    </tr>\n",
       "    <tr>\n",
       "      <th>3</th>\n",
       "      <td>3</td>\n",
       "      <td>4</td>\n",
       "      <td>1</td>\n",
       "      <td>1</td>\n",
       "      <td>0</td>\n",
       "      <td>B46YX3C4TM</td>\n",
       "      <td>53.1000</td>\n",
       "      <td>C123</td>\n",
       "      <td>S</td>\n",
       "      <td>female</td>\n",
       "      <td>1</td>\n",
       "      <td>35.0</td>\n",
       "    </tr>\n",
       "    <tr>\n",
       "      <th>4</th>\n",
       "      <td>4</td>\n",
       "      <td>5</td>\n",
       "      <td>3</td>\n",
       "      <td>0</td>\n",
       "      <td>0</td>\n",
       "      <td>YJKMT1KA7C</td>\n",
       "      <td>8.0500</td>\n",
       "      <td>NaN</td>\n",
       "      <td>S</td>\n",
       "      <td>male</td>\n",
       "      <td>0</td>\n",
       "      <td>35.0</td>\n",
       "    </tr>\n",
       "  </tbody>\n",
       "</table>\n",
       "</div>"
      ],
      "text/plain": [
       "   Unnamed: 0  Id  class  num_sibling/spouse  num_parent/child      ticket  \\\n",
       "0           0   1      3                   1                 0  CUGSP1ULC1   \n",
       "1           1   2      1                   1                 0  RWKPI7Y5RI   \n",
       "2           2   3      3                   0                 0  DTHA121ED6   \n",
       "3           3   4      1                   1                 0  B46YX3C4TM   \n",
       "4           4   5      3                   0                 0  YJKMT1KA7C   \n",
       "\n",
       "     price  Seat departure_from  gender  alive   age  \n",
       "0   7.2500   NaN              S    male      0  22.0  \n",
       "1  71.2833   C85              C  female      1  38.0  \n",
       "2   7.9250   NaN              S  female      1  26.0  \n",
       "3  53.1000  C123              S  female      1  35.0  \n",
       "4   8.0500   NaN              S    male      0  35.0  "
      ]
     },
     "execution_count": 3,
     "metadata": {},
     "output_type": "execute_result"
    }
   ],
   "source": [
    "disaster_df.head() #view the first 5 data entries"
   ]
  },
  {
   "cell_type": "code",
   "execution_count": 4,
   "id": "bd926704",
   "metadata": {
    "scrolled": true
   },
   "outputs": [
    {
     "data": {
      "text/plain": [
       "Unnamed: 0              0\n",
       "Id                      0\n",
       "class                   0\n",
       "num_sibling/spouse      0\n",
       "num_parent/child        0\n",
       "ticket                  0\n",
       "price                   0\n",
       "Seat                  668\n",
       "departure_from          2\n",
       "gender                  0\n",
       "alive                   0\n",
       "age                   174\n",
       "dtype: int64"
      ]
     },
     "execution_count": 4,
     "metadata": {},
     "output_type": "execute_result"
    }
   ],
   "source": [
    "disaster_df.isnull().sum() #see which variable contains missing data"
   ]
  },
  {
   "cell_type": "code",
   "execution_count": 5,
   "id": "3a668f36",
   "metadata": {},
   "outputs": [
    {
     "data": {
      "text/plain": [
       "<AxesSubplot:ylabel='Density'>"
      ]
     },
     "execution_count": 5,
     "metadata": {},
     "output_type": "execute_result"
    },
    {
     "data": {
      "image/png": "[encoded data removed]",
      "text/plain": [
       "<Figure size 432x288 with 1 Axes>"
      ]
     },
     "metadata": {
      "needs_background": "light"
     },
     "output_type": "display_data"
    }
   ],
   "source": [
    "#seat is obviously dropped due to large number and departire_from can drop the data entry due to small number\n",
    "disaster_df.plot(x = \"age\", y = \"alive\", kind=\"density\") #check if age can be dropped"
   ]
  },
  {
   "cell_type": "code",
   "execution_count": 6,
   "id": "1dff833b",
   "metadata": {},
   "outputs": [],
   "source": [
    "disaster_df = disaster_df.dropna(subset = [\"departure_from\"]) #remove blank entry of departure_from\n",
    "disaster_df = disaster_df.drop([\"Unnamed: 0\", \"Id\", \"Seat\", \"ticket\"], axis = 1) #drop unnecessary predictor\n",
    "disaster_df[\"age\"] = disaster_df[\"age\"].fillna(disaster_df[\"age\"].mean()) #fill age with mean of existing data since age canno tbe dropped as shown in the graph"
   ]
  },
  {
   "cell_type": "code",
   "execution_count": 7,
   "id": "8d2d0dc3",
   "metadata": {
    "scrolled": true
   },
   "outputs": [
    {
     "name": "stderr",
     "output_type": "stream",
     "text": [
      "<ipython-input-7-c1b476271be9>:1: FutureWarning: The default value of numeric_only in DataFrame.corr is deprecated. In a future version, it will default to False. Select only valid columns or specify the value of numeric_only to silence this warning.\n",
      "  corr_table = disaster_df.corr().abs().style.background_gradient() #make correlation table to drop potential harmful predictor\n"
     ]
    }
   ],
   "source": [
    "corr_table = disaster_df.corr().abs().style.background_gradient() #make correlation table to drop potential harmful predictor"
   ]
  },
  {
   "cell_type": "code",
   "execution_count": 8,
   "id": "c3082e8e",
   "metadata": {},
   "outputs": [
    {
     "data": {
      "text/html": [
       "<style type=\"text/css\">\n",
       "#T_31a77_row0_col0, #T_31a77_row1_col1, #T_31a77_row2_col2, #T_31a77_row3_col3, #T_31a77_row4_col4, #T_31a77_row5_col5 {\n",
       "  background-color: #023858;\n",
       "  color: #f1f1f1;\n",
       "}\n",
       "#T_31a77_row0_col1, #T_31a77_row2_col4 {\n",
       "  background-color: #f8f1f8;\n",
       "  color: #000000;\n",
       "}\n",
       "#T_31a77_row0_col2, #T_31a77_row1_col4, #T_31a77_row2_col0, #T_31a77_row4_col1, #T_31a77_row4_col5, #T_31a77_row5_col3 {\n",
       "  background-color: #fff7fb;\n",
       "  color: #000000;\n",
       "}\n",
       "#T_31a77_row0_col3 {\n",
       "  background-color: #6fa7ce;\n",
       "  color: #f1f1f1;\n",
       "}\n",
       "#T_31a77_row0_col4 {\n",
       "  background-color: #bfc9e1;\n",
       "  color: #000000;\n",
       "}\n",
       "#T_31a77_row0_col5 {\n",
       "  background-color: #c8cde4;\n",
       "  color: #000000;\n",
       "}\n",
       "#T_31a77_row1_col0 {\n",
       "  background-color: #f4eef6;\n",
       "  color: #000000;\n",
       "}\n",
       "#T_31a77_row1_col2 {\n",
       "  background-color: #96b6d7;\n",
       "  color: #000000;\n",
       "}\n",
       "#T_31a77_row1_col3 {\n",
       "  background-color: #f3edf5;\n",
       "  color: #000000;\n",
       "}\n",
       "#T_31a77_row1_col5 {\n",
       "  background-color: #e1dfed;\n",
       "  color: #000000;\n",
       "}\n",
       "#T_31a77_row2_col1 {\n",
       "  background-color: #9cb9d9;\n",
       "  color: #000000;\n",
       "}\n",
       "#T_31a77_row2_col3 {\n",
       "  background-color: #e7e3f0;\n",
       "  color: #000000;\n",
       "}\n",
       "#T_31a77_row2_col5 {\n",
       "  background-color: #ece7f2;\n",
       "  color: #000000;\n",
       "}\n",
       "#T_31a77_row3_col0 {\n",
       "  background-color: #5ea0ca;\n",
       "  color: #f1f1f1;\n",
       "}\n",
       "#T_31a77_row3_col1 {\n",
       "  background-color: #ede7f2;\n",
       "  color: #000000;\n",
       "}\n",
       "#T_31a77_row3_col2 {\n",
       "  background-color: #d9d8ea;\n",
       "  color: #000000;\n",
       "}\n",
       "#T_31a77_row3_col4 {\n",
       "  background-color: #d6d6e9;\n",
       "  color: #000000;\n",
       "}\n",
       "#T_31a77_row3_col5 {\n",
       "  background-color: #fef6fa;\n",
       "  color: #000000;\n",
       "}\n",
       "#T_31a77_row4_col0 {\n",
       "  background-color: #b8c6e0;\n",
       "  color: #000000;\n",
       "}\n",
       "#T_31a77_row4_col2 {\n",
       "  background-color: #f4edf6;\n",
       "  color: #000000;\n",
       "}\n",
       "#T_31a77_row4_col3 {\n",
       "  background-color: #dfddec;\n",
       "  color: #000000;\n",
       "}\n",
       "#T_31a77_row5_col0 {\n",
       "  background-color: #b9c6e0;\n",
       "  color: #000000;\n",
       "}\n",
       "#T_31a77_row5_col1 {\n",
       "  background-color: #dbdaeb;\n",
       "  color: #000000;\n",
       "}\n",
       "#T_31a77_row5_col2 {\n",
       "  background-color: #e0dded;\n",
       "  color: #000000;\n",
       "}\n",
       "#T_31a77_row5_col4 {\n",
       "  background-color: #faf2f8;\n",
       "  color: #000000;\n",
       "}\n",
       "</style>\n",
       "<table id=\"T_31a77\">\n",
       "  <thead>\n",
       "    <tr>\n",
       "      <th class=\"blank level0\" >&nbsp;</th>\n",
       "      <th id=\"T_31a77_level0_col0\" class=\"col_heading level0 col0\" >class</th>\n",
       "      <th id=\"T_31a77_level0_col1\" class=\"col_heading level0 col1\" >num_sibling/spouse</th>\n",
       "      <th id=\"T_31a77_level0_col2\" class=\"col_heading level0 col2\" >num_parent/child</th>\n",
       "      <th id=\"T_31a77_level0_col3\" class=\"col_heading level0 col3\" >price</th>\n",
       "      <th id=\"T_31a77_level0_col4\" class=\"col_heading level0 col4\" >alive</th>\n",
       "      <th id=\"T_31a77_level0_col5\" class=\"col_heading level0 col5\" >age</th>\n",
       "    </tr>\n",
       "  </thead>\n",
       "  <tbody>\n",
       "    <tr>\n",
       "      <th id=\"T_31a77_level0_row0\" class=\"row_heading level0 row0\" >class</th>\n",
       "      <td id=\"T_31a77_row0_col0\" class=\"data row0 col0\" >1.000000</td>\n",
       "      <td id=\"T_31a77_row0_col1\" class=\"data row0 col1\" >0.083923</td>\n",
       "      <td id=\"T_31a77_row0_col2\" class=\"data row0 col2\" >0.013164</td>\n",
       "      <td id=\"T_31a77_row0_col3\" class=\"data row0 col3\" >0.550570</td>\n",
       "      <td id=\"T_31a77_row0_col4\" class=\"data row0 col4\" >0.331218</td>\n",
       "      <td id=\"T_31a77_row0_col5\" class=\"data row0 col5\" >0.328359</td>\n",
       "    </tr>\n",
       "    <tr>\n",
       "      <th id=\"T_31a77_level0_row1\" class=\"row_heading level0 row1\" >num_sibling/spouse</th>\n",
       "      <td id=\"T_31a77_row1_col0\" class=\"data row1 col0\" >0.083923</td>\n",
       "      <td id=\"T_31a77_row1_col1\" class=\"data row1 col1\" >1.000000</td>\n",
       "      <td id=\"T_31a77_row1_col2\" class=\"data row1 col2\" >0.424664</td>\n",
       "      <td id=\"T_31a77_row1_col3\" class=\"data row1 col3\" >0.159181</td>\n",
       "      <td id=\"T_31a77_row1_col4\" class=\"data row1 col4\" >0.039721</td>\n",
       "      <td id=\"T_31a77_row1_col5\" class=\"data row1 col5\" >0.234771</td>\n",
       "    </tr>\n",
       "    <tr>\n",
       "      <th id=\"T_31a77_level0_row2\" class=\"row_heading level0 row2\" >num_parent/child</th>\n",
       "      <td id=\"T_31a77_row2_col0\" class=\"data row2 col0\" >0.013164</td>\n",
       "      <td id=\"T_31a77_row2_col1\" class=\"data row2 col1\" >0.424664</td>\n",
       "      <td id=\"T_31a77_row2_col2\" class=\"data row2 col2\" >1.000000</td>\n",
       "      <td id=\"T_31a77_row2_col3\" class=\"data row2 col3\" >0.219934</td>\n",
       "      <td id=\"T_31a77_row2_col4\" class=\"data row2 col4\" >0.086437</td>\n",
       "      <td id=\"T_31a77_row2_col5\" class=\"data row2 col5\" >0.192061</td>\n",
       "    </tr>\n",
       "    <tr>\n",
       "      <th id=\"T_31a77_level0_row3\" class=\"row_heading level0 row3\" >price</th>\n",
       "      <td id=\"T_31a77_row3_col0\" class=\"data row3 col0\" >0.550570</td>\n",
       "      <td id=\"T_31a77_row3_col1\" class=\"data row3 col1\" >0.159181</td>\n",
       "      <td id=\"T_31a77_row3_col2\" class=\"data row3 col2\" >0.219934</td>\n",
       "      <td id=\"T_31a77_row3_col3\" class=\"data row3 col3\" >1.000000</td>\n",
       "      <td id=\"T_31a77_row3_col4\" class=\"data row3 col4\" >0.254530</td>\n",
       "      <td id=\"T_31a77_row3_col5\" class=\"data row3 col5\" >0.084406</td>\n",
       "    </tr>\n",
       "    <tr>\n",
       "      <th id=\"T_31a77_level0_row4\" class=\"row_heading level0 row4\" >alive</th>\n",
       "      <td id=\"T_31a77_row4_col0\" class=\"data row4 col0\" >0.331218</td>\n",
       "      <td id=\"T_31a77_row4_col1\" class=\"data row4 col1\" >0.039721</td>\n",
       "      <td id=\"T_31a77_row4_col2\" class=\"data row4 col2\" >0.086437</td>\n",
       "      <td id=\"T_31a77_row4_col3\" class=\"data row4 col3\" >0.254530</td>\n",
       "      <td id=\"T_31a77_row4_col4\" class=\"data row4 col4\" >1.000000</td>\n",
       "      <td id=\"T_31a77_row4_col5\" class=\"data row4 col5\" >0.074360</td>\n",
       "    </tr>\n",
       "    <tr>\n",
       "      <th id=\"T_31a77_level0_row5\" class=\"row_heading level0 row5\" >age</th>\n",
       "      <td id=\"T_31a77_row5_col0\" class=\"data row5 col0\" >0.328359</td>\n",
       "      <td id=\"T_31a77_row5_col1\" class=\"data row5 col1\" >0.234771</td>\n",
       "      <td id=\"T_31a77_row5_col2\" class=\"data row5 col2\" >0.192061</td>\n",
       "      <td id=\"T_31a77_row5_col3\" class=\"data row5 col3\" >0.084406</td>\n",
       "      <td id=\"T_31a77_row5_col4\" class=\"data row5 col4\" >0.074360</td>\n",
       "      <td id=\"T_31a77_row5_col5\" class=\"data row5 col5\" >1.000000</td>\n",
       "    </tr>\n",
       "  </tbody>\n",
       "</table>\n"
      ],
      "text/plain": [
       "<pandas.io.formats.style.Styler at 0x1c37fb8cf10>"
      ]
     },
     "execution_count": 8,
     "metadata": {},
     "output_type": "execute_result"
    }
   ],
   "source": [
    "corr_table"
   ]
  },
  {
   "cell_type": "code",
   "execution_count": 9,
   "id": "a130c568",
   "metadata": {},
   "outputs": [],
   "source": [
    "#get dummy variables for categorical variables\n",
    "disaster_df = pd.get_dummies(disaster_df, columns = [\"class\", \"departure_from\", \"gender\"])"
   ]
  },
  {
   "cell_type": "code",
   "execution_count": 10,
   "id": "5d27e7c9",
   "metadata": {},
   "outputs": [],
   "source": [
    "X = disaster_df.drop([\"alive\"], axis = 1)\n",
    "y = disaster_df[\"alive\"]"
   ]
  },
  {
   "cell_type": "code",
   "execution_count": 11,
   "id": "786538d5",
   "metadata": {},
   "outputs": [
    {
     "data": {
      "text/html": [
       "<div>\n",
       "<style scoped>\n",
       "    .dataframe tbody tr th:only-of-type {\n",
       "        vertical-align: middle;\n",
       "    }\n",
       "\n",
       "    .dataframe tbody tr th {\n",
       "        vertical-align: top;\n",
       "    }\n",
       "\n",
       "    .dataframe thead th {\n",
       "        text-align: right;\n",
       "    }\n",
       "</style>\n",
       "<table border=\"1\" class=\"dataframe\">\n",
       "  <thead>\n",
       "    <tr style=\"text-align: right;\">\n",
       "      <th></th>\n",
       "      <th>num_sibling/spouse</th>\n",
       "      <th>num_parent/child</th>\n",
       "      <th>price</th>\n",
       "      <th>age</th>\n",
       "      <th>class_1</th>\n",
       "      <th>class_2</th>\n",
       "      <th>class_3</th>\n",
       "      <th>departure_from_C</th>\n",
       "      <th>departure_from_Q</th>\n",
       "      <th>departure_from_S</th>\n",
       "      <th>gender_female</th>\n",
       "      <th>gender_male</th>\n",
       "    </tr>\n",
       "  </thead>\n",
       "  <tbody>\n",
       "    <tr>\n",
       "      <th>0</th>\n",
       "      <td>1</td>\n",
       "      <td>0</td>\n",
       "      <td>7.2500</td>\n",
       "      <td>22.0</td>\n",
       "      <td>0</td>\n",
       "      <td>0</td>\n",
       "      <td>1</td>\n",
       "      <td>0</td>\n",
       "      <td>0</td>\n",
       "      <td>1</td>\n",
       "      <td>0</td>\n",
       "      <td>1</td>\n",
       "    </tr>\n",
       "    <tr>\n",
       "      <th>1</th>\n",
       "      <td>1</td>\n",
       "      <td>0</td>\n",
       "      <td>71.2833</td>\n",
       "      <td>38.0</td>\n",
       "      <td>1</td>\n",
       "      <td>0</td>\n",
       "      <td>0</td>\n",
       "      <td>1</td>\n",
       "      <td>0</td>\n",
       "      <td>0</td>\n",
       "      <td>1</td>\n",
       "      <td>0</td>\n",
       "    </tr>\n",
       "    <tr>\n",
       "      <th>2</th>\n",
       "      <td>0</td>\n",
       "      <td>0</td>\n",
       "      <td>7.9250</td>\n",
       "      <td>26.0</td>\n",
       "      <td>0</td>\n",
       "      <td>0</td>\n",
       "      <td>1</td>\n",
       "      <td>0</td>\n",
       "      <td>0</td>\n",
       "      <td>1</td>\n",
       "      <td>1</td>\n",
       "      <td>0</td>\n",
       "    </tr>\n",
       "    <tr>\n",
       "      <th>3</th>\n",
       "      <td>1</td>\n",
       "      <td>0</td>\n",
       "      <td>53.1000</td>\n",
       "      <td>35.0</td>\n",
       "      <td>1</td>\n",
       "      <td>0</td>\n",
       "      <td>0</td>\n",
       "      <td>0</td>\n",
       "      <td>0</td>\n",
       "      <td>1</td>\n",
       "      <td>1</td>\n",
       "      <td>0</td>\n",
       "    </tr>\n",
       "    <tr>\n",
       "      <th>4</th>\n",
       "      <td>0</td>\n",
       "      <td>0</td>\n",
       "      <td>8.0500</td>\n",
       "      <td>35.0</td>\n",
       "      <td>0</td>\n",
       "      <td>0</td>\n",
       "      <td>1</td>\n",
       "      <td>0</td>\n",
       "      <td>0</td>\n",
       "      <td>1</td>\n",
       "      <td>0</td>\n",
       "      <td>1</td>\n",
       "    </tr>\n",
       "  </tbody>\n",
       "</table>\n",
       "</div>"
      ],
      "text/plain": [
       "   num_sibling/spouse  num_parent/child    price   age  class_1  class_2  \\\n",
       "0                   1                 0   7.2500  22.0        0        0   \n",
       "1                   1                 0  71.2833  38.0        1        0   \n",
       "2                   0                 0   7.9250  26.0        0        0   \n",
       "3                   1                 0  53.1000  35.0        1        0   \n",
       "4                   0                 0   8.0500  35.0        0        0   \n",
       "\n",
       "   class_3  departure_from_C  departure_from_Q  departure_from_S  \\\n",
       "0        1                 0                 0                 1   \n",
       "1        0                 1                 0                 0   \n",
       "2        1                 0                 0                 1   \n",
       "3        0                 0                 0                 1   \n",
       "4        1                 0                 0                 1   \n",
       "\n",
       "   gender_female  gender_male  \n",
       "0              0            1  \n",
       "1              1            0  \n",
       "2              1            0  \n",
       "3              1            0  \n",
       "4              0            1  "
      ]
     },
     "execution_count": 11,
     "metadata": {},
     "output_type": "execute_result"
    }
   ],
   "source": [
    "X.head() #check if X is correct"
   ]
  },
  {
   "cell_type": "code",
   "execution_count": 12,
   "id": "5673db0e",
   "metadata": {},
   "outputs": [],
   "source": [
    "from sklearn.model_selection import train_test_split\n",
    "X_train, X_test, y_train, y_test = train_test_split(X, y, test_size = 0.2, random_state=2) #split to training and testing sets"
   ]
  },
  {
   "cell_type": "code",
   "execution_count": 13,
   "id": "48ac17f2",
   "metadata": {},
   "outputs": [
    {
     "data": {
      "text/plain": [
       "SVC(C=1, class_weight={0: 0.55, 1: 0.45}, kernel='linear')"
      ]
     },
     "execution_count": 13,
     "metadata": {},
     "output_type": "execute_result"
    }
   ],
   "source": [
    "#svm model\n",
    "from sklearn import svm\n",
    "clf = svm.SVC(kernel = \"linear\", C = 1, class_weight = {0: 0.55, 1: 0.45})\n",
    "clf.fit(X_train, y_train)"
   ]
  },
  {
   "cell_type": "code",
   "execution_count": 14,
   "id": "65e59d54",
   "metadata": {},
   "outputs": [
    {
     "data": {
      "text/plain": [
       "0.861271676300578"
      ]
     },
     "execution_count": 14,
     "metadata": {},
     "output_type": "execute_result"
    }
   ],
   "source": [
    "clf.score(X_test, y_test) #get accuracy"
   ]
  },
  {
   "cell_type": "code",
   "execution_count": 15,
   "id": "8f678417",
   "metadata": {
    "scrolled": true
   },
   "outputs": [
    {
     "data": {
      "image/png": "[encoded data removed]",
      "text/plain": [
       "<Figure size 432x288 with 2 Axes>"
      ]
     },
     "metadata": {
      "needs_background": "light"
     },
     "output_type": "display_data"
    }
   ],
   "source": [
    "#confusion matrix\n",
    "from sklearn.metrics import confusion_matrix, ConfusionMatrixDisplay\n",
    "cm2 = confusion_matrix(clf.predict(X_test), y_test)\n",
    "ConfusionMatrixDisplay(cm2, display_labels = clf.classes_).plot()\n",
    "plt.title(\"SVM Confusion Matrix\", pad=20)\n",
    "plt.show()"
   ]
  },
  {
   "cell_type": "code",
   "execution_count": 16,
   "id": "9137beec",
   "metadata": {
    "scrolled": false
   },
   "outputs": [
    {
     "name": "stdout",
     "output_type": "stream",
     "text": [
      "              precision    recall  f1-score   support\n",
      "\n",
      "           0     0.8673    0.9159    0.8909       107\n",
      "           1     0.8500    0.7727    0.8095        66\n",
      "\n",
      "    accuracy                         0.8613       173\n",
      "   macro avg     0.8586    0.8443    0.8502       173\n",
      "weighted avg     0.8607    0.8613    0.8599       173\n",
      "\n"
     ]
    }
   ],
   "source": [
    "#classification report\n",
    "from sklearn.metrics import classification_report\n",
    "print(classification_report(np.array(y_test), clf.predict(X_test), digits=4))"
   ]
  },
  {
   "cell_type": "code",
   "execution_count": 24,
   "id": "2b757979",
   "metadata": {
    "scrolled": true
   },
   "outputs": [
    {
     "data": {
      "image/png": "[encoded data removed]",
      "text/plain": [
       "<Figure size 432x288 with 1 Axes>"
      ]
     },
     "metadata": {
      "needs_background": "light"
     },
     "output_type": "display_data"
    }
   ],
   "source": [
    "# find the trade off of different class weight in terms of accuracy and reccall score to minimize false negatives\n",
    "# note that fitting 100 svm model may take quite a while\n",
    "weight_0 = []\n",
    "acc_score = []\n",
    "fnr = []\n",
    "for i in np.arange(0,1.01,0.05):\n",
    "    weight_0.append(i)\n",
    "    clf2 = svm.SVC(kernel = \"linear\", C = 1, class_weight = {0: i, 1: 1-i})\n",
    "    clf2.fit(X_train, y_train)\n",
    "    acc_score.append(clf2.score(X_test, y_test))\n",
    "    cmclf = confusion_matrix(clf2.predict(X_test), y_test)\n",
    "    fnr.append(cmclf[0][0]/(cmclf[0][0]+cmclf[1][0]))\n",
    "plt.plot(weight_0, acc_score, label = \"accuracy\")\n",
    "plt.plot(weight_0, fnr, label = \"recall\")\n",
    "plt.xlabel(\"weight class of 0\")\n",
    "plt.legend()\n",
    "plt.show()"
   ]
  },
  {
   "cell_type": "code",
   "execution_count": 18,
   "id": "2febf63f",
   "metadata": {},
   "outputs": [],
   "source": [
    "#logistic regression model\n",
    "from sklearn.linear_model import LogisticRegression\n",
    "model = LogisticRegression(class_weight = {0: 0.6, 1: 0.4}, max_iter = 500).fit(X_train, y_train)"
   ]
  },
  {
   "cell_type": "code",
   "execution_count": 19,
   "id": "be42f849",
   "metadata": {},
   "outputs": [
    {
     "data": {
      "text/plain": [
       "0.8497109826589595"
      ]
     },
     "execution_count": 19,
     "metadata": {},
     "output_type": "execute_result"
    }
   ],
   "source": [
    "model.score(X_test, y_test) #get accuracy"
   ]
  },
  {
   "cell_type": "code",
   "execution_count": 20,
   "id": "175d2793",
   "metadata": {
    "scrolled": true
   },
   "outputs": [
    {
     "data": {
      "image/png": "[encoded data removed]",
      "text/plain": [
       "<Figure size 432x288 with 2 Axes>"
      ]
     },
     "metadata": {
      "needs_background": "light"
     },
     "output_type": "display_data"
    }
   ],
   "source": [
    "#confusion matrix\n",
    "cm = confusion_matrix(model.predict(X_test), y_test)\n",
    "ConfusionMatrixDisplay(cm, display_labels = model.classes_).plot()\n",
    "plt.title(\"Logistic Regression Confusion Matrix\", pad=20)\n",
    "plt.show()"
   ]
  },
  {
   "cell_type": "code",
   "execution_count": 21,
   "id": "12e70bdd",
   "metadata": {
    "scrolled": true
   },
   "outputs": [
    {
     "name": "stdout",
     "output_type": "stream",
     "text": [
      "              precision    recall  f1-score   support\n",
      "\n",
      "           0     0.8462    0.9252    0.8839       107\n",
      "           1     0.8571    0.7273    0.7869        66\n",
      "\n",
      "    accuracy                         0.8497       173\n",
      "   macro avg     0.8516    0.8263    0.8354       173\n",
      "weighted avg     0.8503    0.8497    0.8469       173\n",
      "\n"
     ]
    }
   ],
   "source": [
    "#classification report\n",
    "print(classification_report(np.array(y_test), model.predict(X_test), digits=4))"
   ]
  },
  {
   "cell_type": "code",
   "execution_count": 25,
   "id": "a9713f7d",
   "metadata": {
    "scrolled": true
   },
   "outputs": [
    {
     "data": {
      "image/png": "[encoded data removed]",
      "text/plain": [
       "<Figure size 432x288 with 1 Axes>"
      ]
     },
     "metadata": {
      "needs_background": "light"
     },
     "output_type": "display_data"
    }
   ],
   "source": [
    "# find the trade off of different class weight in terms of accuracy and reccall score to minimize false negatives\n",
    "weight_0_m = []\n",
    "acc_score_m = []\n",
    "fnr_m = []\n",
    "for i in np.arange(0,1.01,0.05):\n",
    "    weight_0_m.append(i)\n",
    "    model2 = LogisticRegression(class_weight = {0: i, 1: 1-i}, max_iter=500)\n",
    "    model2.fit(X_train, y_train)\n",
    "    acc_score_m.append(model2.score(X_test, y_test))\n",
    "    cmmod = confusion_matrix(model2.predict(X_test), y_test)\n",
    "    fnr_m.append(cmmod[0][0]/(cmmod[0][0]+cmmod[1][0]))\n",
    "plt.plot(weight_0_m, acc_score_m, label = \"accuracy\")\n",
    "plt.plot(weight_0_m, fnr_m, label = \"recall\")\n",
    "plt.xlabel(\"weight class of 0\")\n",
    "plt.legend()\n",
    "plt.show()"
   ]
  },
  {
   "cell_type": "code",
   "execution_count": 23,
   "id": "d7ebf754",
   "metadata": {},
   "outputs": [],
   "source": [
    "# uncomment to save the models\n",
    "# pickle.dump(model, open(\"log_final.sav\", \"wb\"))\n",
    "# pickle.dump(clf, open(\"svm_final.sav\", \"wb\"))"
   ]
  }
 ],
 "metadata": {
  "kernelspec": {
   "display_name": "Python 3",
   "language": "python",
   "name": "python3"
  },
  "language_info": {
   "codemirror_mode": {
    "name": "ipython",
    "version": 3
   },
   "file_extension": ".py",
   "mimetype": "text/x-python",
   "name": "python",
   "nbconvert_exporter": "python",
   "pygments_lexer": "ipython3",
   "version": "3.9.5"
  }
 },
 "nbformat": 4,
 "nbformat_minor": 5
}
